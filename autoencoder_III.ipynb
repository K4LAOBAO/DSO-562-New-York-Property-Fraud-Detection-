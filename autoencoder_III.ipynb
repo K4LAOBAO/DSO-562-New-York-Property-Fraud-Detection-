{
 "cells": [
  {
   "cell_type": "markdown",
   "metadata": {},
   "source": [
    "# AutoEncoder Model - Fraud"
   ]
  },
  {
   "cell_type": "code",
   "execution_count": 1,
   "metadata": {
    "ExecuteTime": {
     "end_time": "2019-02-16T11:34:33.859284Z",
     "start_time": "2019-02-16T11:34:33.838340Z"
    }
   },
   "outputs": [],
   "source": [
    "%config IPCompleter.greedy=True\n",
    "#%install_ext https://raw.github.com/cpcloud/ipython-autotime/master/autotime.py\n",
    "#%load_ext autotime"
   ]
  },
  {
   "cell_type": "code",
   "execution_count": 2,
   "metadata": {
    "ExecuteTime": {
     "end_time": "2019-02-16T11:34:51.629321Z",
     "start_time": "2019-02-16T11:34:44.497052Z"
    }
   },
   "outputs": [
    {
     "name": "stderr",
     "output_type": "stream",
     "text": [
      "C:\\Users\\Gregy\\Anaconda3\\Anaconda3_USC\\lib\\site-packages\\h5py\\__init__.py:36: FutureWarning: Conversion of the second argument of issubdtype from `float` to `np.floating` is deprecated. In future, it will be treated as `np.float64 == np.dtype(float).type`.\n",
      "  from ._conv import register_converters as _register_converters\n",
      "Using TensorFlow backend.\n"
     ]
    }
   ],
   "source": [
    "import pandas as pd\n",
    "import numpy as np\n",
    "\n",
    "from keras.models import Model\n",
    "from keras.layers import Input,Dense"
   ]
  },
  {
   "cell_type": "code",
   "execution_count": 3,
   "metadata": {
    "ExecuteTime": {
     "end_time": "2019-02-16T11:34:56.843694Z",
     "start_time": "2019-02-16T11:34:53.310147Z"
    }
   },
   "outputs": [],
   "source": [
    "df = pd.read_csv(\"data_afterpca.csv\")"
   ]
  },
  {
   "cell_type": "code",
   "execution_count": 4,
   "metadata": {
    "ExecuteTime": {
     "end_time": "2019-02-16T11:35:00.582117Z",
     "start_time": "2019-02-16T11:35:00.525230Z"
    }
   },
   "outputs": [
    {
     "data": {
      "text/html": [
       "<div>\n",
       "<style scoped>\n",
       "    .dataframe tbody tr th:only-of-type {\n",
       "        vertical-align: middle;\n",
       "    }\n",
       "\n",
       "    .dataframe tbody tr th {\n",
       "        vertical-align: top;\n",
       "    }\n",
       "\n",
       "    .dataframe thead th {\n",
       "        text-align: right;\n",
       "    }\n",
       "</style>\n",
       "<table border=\"1\" class=\"dataframe\">\n",
       "  <thead>\n",
       "    <tr style=\"text-align: right;\">\n",
       "      <th></th>\n",
       "      <th>Unnamed: 0</th>\n",
       "      <th>PC1</th>\n",
       "      <th>PC2</th>\n",
       "      <th>PC3</th>\n",
       "      <th>PC4</th>\n",
       "      <th>PC5</th>\n",
       "      <th>PC6</th>\n",
       "      <th>PC7</th>\n",
       "      <th>PC8</th>\n",
       "      <th>PC9</th>\n",
       "      <th>PC10</th>\n",
       "    </tr>\n",
       "  </thead>\n",
       "  <tbody>\n",
       "    <tr>\n",
       "      <th>0</th>\n",
       "      <td>1</td>\n",
       "      <td>0.000277</td>\n",
       "      <td>-0.007366</td>\n",
       "      <td>-0.005802</td>\n",
       "      <td>-0.008016</td>\n",
       "      <td>-0.000140</td>\n",
       "      <td>-0.019152</td>\n",
       "      <td>0.001024</td>\n",
       "      <td>-0.011501</td>\n",
       "      <td>-0.004751</td>\n",
       "      <td>0.003628</td>\n",
       "    </tr>\n",
       "    <tr>\n",
       "      <th>1</th>\n",
       "      <td>2</td>\n",
       "      <td>-0.010390</td>\n",
       "      <td>-0.008809</td>\n",
       "      <td>0.004091</td>\n",
       "      <td>-0.005157</td>\n",
       "      <td>0.006581</td>\n",
       "      <td>-0.011030</td>\n",
       "      <td>-0.001370</td>\n",
       "      <td>0.002397</td>\n",
       "      <td>0.004269</td>\n",
       "      <td>0.002819</td>\n",
       "    </tr>\n",
       "    <tr>\n",
       "      <th>2</th>\n",
       "      <td>3</td>\n",
       "      <td>0.096099</td>\n",
       "      <td>0.203566</td>\n",
       "      <td>-0.032006</td>\n",
       "      <td>-0.032248</td>\n",
       "      <td>0.002193</td>\n",
       "      <td>-0.000888</td>\n",
       "      <td>-0.081251</td>\n",
       "      <td>0.013141</td>\n",
       "      <td>-0.101774</td>\n",
       "      <td>0.078984</td>\n",
       "    </tr>\n",
       "    <tr>\n",
       "      <th>3</th>\n",
       "      <td>4</td>\n",
       "      <td>0.015212</td>\n",
       "      <td>-0.025601</td>\n",
       "      <td>-0.018004</td>\n",
       "      <td>-0.022123</td>\n",
       "      <td>-0.056471</td>\n",
       "      <td>-0.025231</td>\n",
       "      <td>-0.063057</td>\n",
       "      <td>0.003809</td>\n",
       "      <td>-0.007457</td>\n",
       "      <td>-0.003059</td>\n",
       "    </tr>\n",
       "    <tr>\n",
       "      <th>4</th>\n",
       "      <td>5</td>\n",
       "      <td>0.005910</td>\n",
       "      <td>-0.027515</td>\n",
       "      <td>-0.008770</td>\n",
       "      <td>-0.016263</td>\n",
       "      <td>0.001501</td>\n",
       "      <td>-0.034412</td>\n",
       "      <td>-0.014604</td>\n",
       "      <td>0.000636</td>\n",
       "      <td>0.000833</td>\n",
       "      <td>0.001988</td>\n",
       "    </tr>\n",
       "  </tbody>\n",
       "</table>\n",
       "</div>"
      ],
      "text/plain": [
       "   Unnamed: 0       PC1       PC2       PC3       PC4       PC5       PC6  \\\n",
       "0           1  0.000277 -0.007366 -0.005802 -0.008016 -0.000140 -0.019152   \n",
       "1           2 -0.010390 -0.008809  0.004091 -0.005157  0.006581 -0.011030   \n",
       "2           3  0.096099  0.203566 -0.032006 -0.032248  0.002193 -0.000888   \n",
       "3           4  0.015212 -0.025601 -0.018004 -0.022123 -0.056471 -0.025231   \n",
       "4           5  0.005910 -0.027515 -0.008770 -0.016263  0.001501 -0.034412   \n",
       "\n",
       "        PC7       PC8       PC9      PC10  \n",
       "0  0.001024 -0.011501 -0.004751  0.003628  \n",
       "1 -0.001370  0.002397  0.004269  0.002819  \n",
       "2 -0.081251  0.013141 -0.101774  0.078984  \n",
       "3 -0.063057  0.003809 -0.007457 -0.003059  \n",
       "4 -0.014604  0.000636  0.000833  0.001988  "
      ]
     },
     "execution_count": 4,
     "metadata": {},
     "output_type": "execute_result"
    }
   ],
   "source": [
    "df.head()"
   ]
  },
  {
   "cell_type": "code",
   "execution_count": 5,
   "metadata": {
    "ExecuteTime": {
     "end_time": "2019-02-16T11:35:04.671216Z",
     "start_time": "2019-02-16T11:35:04.614811Z"
    }
   },
   "outputs": [
    {
     "data": {
      "text/html": [
       "<div>\n",
       "<style scoped>\n",
       "    .dataframe tbody tr th:only-of-type {\n",
       "        vertical-align: middle;\n",
       "    }\n",
       "\n",
       "    .dataframe tbody tr th {\n",
       "        vertical-align: top;\n",
       "    }\n",
       "\n",
       "    .dataframe thead th {\n",
       "        text-align: right;\n",
       "    }\n",
       "</style>\n",
       "<table border=\"1\" class=\"dataframe\">\n",
       "  <thead>\n",
       "    <tr style=\"text-align: right;\">\n",
       "      <th></th>\n",
       "      <th>PC1</th>\n",
       "      <th>PC2</th>\n",
       "      <th>PC3</th>\n",
       "      <th>PC4</th>\n",
       "      <th>PC5</th>\n",
       "      <th>PC6</th>\n",
       "      <th>PC7</th>\n",
       "    </tr>\n",
       "  </thead>\n",
       "  <tbody>\n",
       "    <tr>\n",
       "      <th>0</th>\n",
       "      <td>0.000277</td>\n",
       "      <td>-0.007366</td>\n",
       "      <td>-0.005802</td>\n",
       "      <td>-0.008016</td>\n",
       "      <td>-0.000140</td>\n",
       "      <td>-0.019152</td>\n",
       "      <td>0.001024</td>\n",
       "    </tr>\n",
       "    <tr>\n",
       "      <th>1</th>\n",
       "      <td>-0.010390</td>\n",
       "      <td>-0.008809</td>\n",
       "      <td>0.004091</td>\n",
       "      <td>-0.005157</td>\n",
       "      <td>0.006581</td>\n",
       "      <td>-0.011030</td>\n",
       "      <td>-0.001370</td>\n",
       "    </tr>\n",
       "    <tr>\n",
       "      <th>2</th>\n",
       "      <td>0.096099</td>\n",
       "      <td>0.203566</td>\n",
       "      <td>-0.032006</td>\n",
       "      <td>-0.032248</td>\n",
       "      <td>0.002193</td>\n",
       "      <td>-0.000888</td>\n",
       "      <td>-0.081251</td>\n",
       "    </tr>\n",
       "    <tr>\n",
       "      <th>3</th>\n",
       "      <td>0.015212</td>\n",
       "      <td>-0.025601</td>\n",
       "      <td>-0.018004</td>\n",
       "      <td>-0.022123</td>\n",
       "      <td>-0.056471</td>\n",
       "      <td>-0.025231</td>\n",
       "      <td>-0.063057</td>\n",
       "    </tr>\n",
       "    <tr>\n",
       "      <th>4</th>\n",
       "      <td>0.005910</td>\n",
       "      <td>-0.027515</td>\n",
       "      <td>-0.008770</td>\n",
       "      <td>-0.016263</td>\n",
       "      <td>0.001501</td>\n",
       "      <td>-0.034412</td>\n",
       "      <td>-0.014604</td>\n",
       "    </tr>\n",
       "  </tbody>\n",
       "</table>\n",
       "</div>"
      ],
      "text/plain": [
       "        PC1       PC2       PC3       PC4       PC5       PC6       PC7\n",
       "0  0.000277 -0.007366 -0.005802 -0.008016 -0.000140 -0.019152  0.001024\n",
       "1 -0.010390 -0.008809  0.004091 -0.005157  0.006581 -0.011030 -0.001370\n",
       "2  0.096099  0.203566 -0.032006 -0.032248  0.002193 -0.000888 -0.081251\n",
       "3  0.015212 -0.025601 -0.018004 -0.022123 -0.056471 -0.025231 -0.063057\n",
       "4  0.005910 -0.027515 -0.008770 -0.016263  0.001501 -0.034412 -0.014604"
      ]
     },
     "execution_count": 5,
     "metadata": {},
     "output_type": "execute_result"
    }
   ],
   "source": [
    "# Take the top 7 PCs that cover ~94% of variance\n",
    "train_data = df.iloc[:, 1:8]\n",
    "train_data.head()"
   ]
  },
  {
   "cell_type": "code",
   "execution_count": 6,
   "metadata": {
    "ExecuteTime": {
     "end_time": "2019-02-16T11:35:09.328082Z",
     "start_time": "2019-02-16T11:35:08.507894Z"
    }
   },
   "outputs": [
    {
     "data": {
      "text/html": [
       "<div>\n",
       "<style scoped>\n",
       "    .dataframe tbody tr th:only-of-type {\n",
       "        vertical-align: middle;\n",
       "    }\n",
       "\n",
       "    .dataframe tbody tr th {\n",
       "        vertical-align: top;\n",
       "    }\n",
       "\n",
       "    .dataframe thead th {\n",
       "        text-align: right;\n",
       "    }\n",
       "</style>\n",
       "<table border=\"1\" class=\"dataframe\">\n",
       "  <thead>\n",
       "    <tr style=\"text-align: right;\">\n",
       "      <th></th>\n",
       "      <th>PC1</th>\n",
       "      <th>PC2</th>\n",
       "      <th>PC3</th>\n",
       "      <th>PC4</th>\n",
       "      <th>PC5</th>\n",
       "      <th>PC6</th>\n",
       "      <th>PC7</th>\n",
       "    </tr>\n",
       "  </thead>\n",
       "  <tbody>\n",
       "    <tr>\n",
       "      <th>count</th>\n",
       "      <td>1.070994e+06</td>\n",
       "      <td>1.070994e+06</td>\n",
       "      <td>1.070994e+06</td>\n",
       "      <td>1.070994e+06</td>\n",
       "      <td>1.070994e+06</td>\n",
       "      <td>1.070994e+06</td>\n",
       "      <td>1.070994e+06</td>\n",
       "    </tr>\n",
       "    <tr>\n",
       "      <th>mean</th>\n",
       "      <td>9.713159e-17</td>\n",
       "      <td>-5.176816e-17</td>\n",
       "      <td>-9.434584e-18</td>\n",
       "      <td>-1.483235e-16</td>\n",
       "      <td>-8.771696e-17</td>\n",
       "      <td>1.434835e-17</td>\n",
       "      <td>4.937039e-17</td>\n",
       "    </tr>\n",
       "    <tr>\n",
       "      <th>std</th>\n",
       "      <td>1.000000e+00</td>\n",
       "      <td>1.000000e+00</td>\n",
       "      <td>1.000000e+00</td>\n",
       "      <td>1.000000e+00</td>\n",
       "      <td>1.000000e+00</td>\n",
       "      <td>1.000000e+00</td>\n",
       "      <td>1.000000e+00</td>\n",
       "    </tr>\n",
       "    <tr>\n",
       "      <th>min</th>\n",
       "      <td>-2.012423e-02</td>\n",
       "      <td>-6.409325e+02</td>\n",
       "      <td>-7.147445e+02</td>\n",
       "      <td>-5.896804e+02</td>\n",
       "      <td>-7.354291e+01</td>\n",
       "      <td>-7.596727e+01</td>\n",
       "      <td>-1.894045e+02</td>\n",
       "    </tr>\n",
       "    <tr>\n",
       "      <th>25%</th>\n",
       "      <td>-1.200768e-02</td>\n",
       "      <td>-1.766771e-03</td>\n",
       "      <td>-4.019225e-04</td>\n",
       "      <td>-3.774865e-03</td>\n",
       "      <td>2.109047e-03</td>\n",
       "      <td>-1.253351e-02</td>\n",
       "      <td>-5.471702e-03</td>\n",
       "    </tr>\n",
       "    <tr>\n",
       "      <th>50%</th>\n",
       "      <td>-9.565047e-03</td>\n",
       "      <td>1.481738e-03</td>\n",
       "      <td>2.590560e-03</td>\n",
       "      <td>5.913131e-03</td>\n",
       "      <td>4.954212e-03</td>\n",
       "      <td>-8.081072e-03</td>\n",
       "      <td>-1.883970e-03</td>\n",
       "    </tr>\n",
       "    <tr>\n",
       "      <th>75%</th>\n",
       "      <td>-6.923130e-03</td>\n",
       "      <td>5.128215e-03</td>\n",
       "      <td>4.945496e-03</td>\n",
       "      <td>9.677343e-03</td>\n",
       "      <td>6.477329e-03</td>\n",
       "      <td>-2.144286e-03</td>\n",
       "      <td>1.082173e-03</td>\n",
       "    </tr>\n",
       "    <tr>\n",
       "      <th>max</th>\n",
       "      <td>6.085315e+02</td>\n",
       "      <td>5.528856e+02</td>\n",
       "      <td>2.496145e+02</td>\n",
       "      <td>5.900895e+01</td>\n",
       "      <td>7.198175e+02</td>\n",
       "      <td>6.598230e+02</td>\n",
       "      <td>6.801521e+02</td>\n",
       "    </tr>\n",
       "  </tbody>\n",
       "</table>\n",
       "</div>"
      ],
      "text/plain": [
       "                PC1           PC2           PC3           PC4           PC5  \\\n",
       "count  1.070994e+06  1.070994e+06  1.070994e+06  1.070994e+06  1.070994e+06   \n",
       "mean   9.713159e-17 -5.176816e-17 -9.434584e-18 -1.483235e-16 -8.771696e-17   \n",
       "std    1.000000e+00  1.000000e+00  1.000000e+00  1.000000e+00  1.000000e+00   \n",
       "min   -2.012423e-02 -6.409325e+02 -7.147445e+02 -5.896804e+02 -7.354291e+01   \n",
       "25%   -1.200768e-02 -1.766771e-03 -4.019225e-04 -3.774865e-03  2.109047e-03   \n",
       "50%   -9.565047e-03  1.481738e-03  2.590560e-03  5.913131e-03  4.954212e-03   \n",
       "75%   -6.923130e-03  5.128215e-03  4.945496e-03  9.677343e-03  6.477329e-03   \n",
       "max    6.085315e+02  5.528856e+02  2.496145e+02  5.900895e+01  7.198175e+02   \n",
       "\n",
       "                PC6           PC7  \n",
       "count  1.070994e+06  1.070994e+06  \n",
       "mean   1.434835e-17  4.937039e-17  \n",
       "std    1.000000e+00  1.000000e+00  \n",
       "min   -7.596727e+01 -1.894045e+02  \n",
       "25%   -1.253351e-02 -5.471702e-03  \n",
       "50%   -8.081072e-03 -1.883970e-03  \n",
       "75%   -2.144286e-03  1.082173e-03  \n",
       "max    6.598230e+02  6.801521e+02  "
      ]
     },
     "execution_count": 6,
     "metadata": {},
     "output_type": "execute_result"
    }
   ],
   "source": [
    "train_data.describe()"
   ]
  },
  {
   "cell_type": "code",
   "execution_count": 7,
   "metadata": {
    "ExecuteTime": {
     "end_time": "2019-02-16T11:35:12.164288Z",
     "start_time": "2019-02-16T11:35:12.160299Z"
    }
   },
   "outputs": [],
   "source": [
    "train = train_data.values"
   ]
  },
  {
   "cell_type": "code",
   "execution_count": 8,
   "metadata": {
    "ExecuteTime": {
     "end_time": "2019-02-16T11:35:15.467165Z",
     "start_time": "2019-02-16T11:35:15.309339Z"
    }
   },
   "outputs": [],
   "source": [
    "input_size = 7\n",
    "hidden_size = 4\n",
    "code_size = 2\n",
    "\n",
    "#autoencoder\n",
    "input_layer = Input(shape=(input_size,)) \n",
    "hidden_1 = Dense(hidden_size, activation='relu')(input_layer)\n",
    "code = Dense(code_size,activation='relu')(hidden_1)\n",
    "hidden_2 = Dense(hidden_size, activation='relu')(code)\n",
    "output_layer = Dense(input_size, activation='tanh')(hidden_2)\n",
    "\n",
    "autoencoder = Model(input_layer, output_layer)\n",
    "autoencoder.compile(optimizer='adam', loss='mean_squared_error', metrics=['accuracy'])"
   ]
  },
  {
   "cell_type": "code",
   "execution_count": 11,
   "metadata": {
    "ExecuteTime": {
     "end_time": "2019-02-16T16:52:36.798537Z",
     "start_time": "2019-02-16T12:06:46.418195Z"
    },
    "scrolled": false
   },
   "outputs": [
    {
     "name": "stdout",
     "output_type": "stream",
     "text": [
      "Epoch 1/100\n",
      "1070994/1070994 [==============================] - 185s 173us/step - loss: 0.9940 - acc: 0.3019\n",
      "Epoch 2/100\n",
      "1070994/1070994 [==============================] - 175s 163us/step - loss: 0.9940 - acc: 0.2984\n",
      "Epoch 3/100\n",
      "1070994/1070994 [==============================] - 174s 162us/step - loss: 0.9938 - acc: 0.2998\n",
      "Epoch 4/100\n",
      "1070994/1070994 [==============================] - 175s 163us/step - loss: 0.9939 - acc: 0.3064\n",
      "Epoch 5/100\n",
      "1070994/1070994 [==============================] - 176s 164us/step - loss: 0.9939 - acc: 0.3011\n",
      "Epoch 6/100\n",
      "1070994/1070994 [==============================] - 175s 164us/step - loss: 0.9938 - acc: 0.3018\n",
      "Epoch 7/100\n",
      "1070994/1070994 [==============================] - 175s 164us/step - loss: 0.9940 - acc: 0.3017\n",
      "Epoch 8/100\n",
      "1070994/1070994 [==============================] - 176s 164us/step - loss: 0.9941 - acc: 0.3041\n",
      "Epoch 9/100\n",
      "1070994/1070994 [==============================] - 179s 167us/step - loss: 0.9942 - acc: 0.3074\n",
      "Epoch 10/100\n",
      "1070994/1070994 [==============================] - 178s 166us/step - loss: 0.9941 - acc: 0.3096\n",
      "Epoch 11/100\n",
      "1070994/1070994 [==============================] - 174s 162us/step - loss: 0.9941 - acc: 0.3056\n",
      "Epoch 12/100\n",
      "1070994/1070994 [==============================] - 173s 161us/step - loss: 0.9940 - acc: 0.2994\n",
      "Epoch 13/100\n",
      "1070994/1070994 [==============================] - 171s 159us/step - loss: 0.9941 - acc: 0.2963\n",
      "Epoch 14/100\n",
      "1070994/1070994 [==============================] - 173s 162us/step - loss: 0.9942 - acc: 0.3002\n",
      "Epoch 15/100\n",
      "1070994/1070994 [==============================] - 176s 165us/step - loss: 0.9942 - acc: 0.3001\n",
      "Epoch 16/100\n",
      "1070994/1070994 [==============================] - 180s 168us/step - loss: 0.9943 - acc: 0.3041\n",
      "Epoch 17/100\n",
      "1070994/1070994 [==============================] - 180s 169us/step - loss: 0.9943 - acc: 0.2960\n",
      "Epoch 18/100\n",
      "1070994/1070994 [==============================] - 180s 168us/step - loss: 0.9941 - acc: 0.2967\n",
      "Epoch 19/100\n",
      "1070994/1070994 [==============================] - 177s 166us/step - loss: 0.9942 - acc: 0.2954\n",
      "Epoch 20/100\n",
      "1070994/1070994 [==============================] - 171s 159us/step - loss: 0.9942 - acc: 0.2970\n",
      "Epoch 21/100\n",
      "1070994/1070994 [==============================] - 172s 160us/step - loss: 0.9942 - acc: 0.2948\n",
      "Epoch 22/100\n",
      "1070994/1070994 [==============================] - 173s 162us/step - loss: 0.9941 - acc: 0.2988\n",
      "Epoch 23/100\n",
      "1070994/1070994 [==============================] - 171s 160us/step - loss: 0.9941 - acc: 0.3050\n",
      "Epoch 24/100\n",
      "1070994/1070994 [==============================] - 171s 160us/step - loss: 0.9942 - acc: 0.3043\n",
      "Epoch 25/100\n",
      "1070994/1070994 [==============================] - 171s 159us/step - loss: 0.9942 - acc: 0.2986\n",
      "Epoch 26/100\n",
      "1070994/1070994 [==============================] - 172s 161us/step - loss: 0.9943 - acc: 0.3066\n",
      "Epoch 27/100\n",
      "1070994/1070994 [==============================] - 171s 160us/step - loss: 0.9944 - acc: 0.3022\n",
      "Epoch 28/100\n",
      "1070994/1070994 [==============================] - 170s 159us/step - loss: 0.9943 - acc: 0.2954\n",
      "Epoch 29/100\n",
      "1070994/1070994 [==============================] - 171s 159us/step - loss: 0.9947 - acc: 0.3015\n",
      "Epoch 30/100\n",
      "1070994/1070994 [==============================] - 171s 159us/step - loss: 0.9945 - acc: 0.2958\n",
      "Epoch 31/100\n",
      "1070994/1070994 [==============================] - 171s 160us/step - loss: 0.9945 - acc: 0.2927\n",
      "Epoch 32/100\n",
      "1070994/1070994 [==============================] - 170s 159us/step - loss: 0.9946 - acc: 0.2973\n",
      "Epoch 33/100\n",
      "1070994/1070994 [==============================] - 171s 160us/step - loss: 0.9947 - acc: 0.2955\n",
      "Epoch 34/100\n",
      "1070994/1070994 [==============================] - 171s 160us/step - loss: 0.9946 - acc: 0.2984\n",
      "Epoch 35/100\n",
      "1070994/1070994 [==============================] - 171s 160us/step - loss: 0.9946 - acc: 0.3032\n",
      "Epoch 36/100\n",
      "1070994/1070994 [==============================] - 171s 160us/step - loss: 0.9947 - acc: 0.2963\n",
      "Epoch 37/100\n",
      "1070994/1070994 [==============================] - 171s 160us/step - loss: 0.9945 - acc: 0.3014\n",
      "Epoch 38/100\n",
      "1070994/1070994 [==============================] - 171s 160us/step - loss: 0.9946 - acc: 0.2949\n",
      "Epoch 39/100\n",
      "1070994/1070994 [==============================] - 171s 160us/step - loss: 0.9946 - acc: 0.3004\n",
      "Epoch 40/100\n",
      "1070994/1070994 [==============================] - 172s 160us/step - loss: 0.9946 - acc: 0.2974\n",
      "Epoch 41/100\n",
      "1070994/1070994 [==============================] - 172s 160us/step - loss: 0.9946 - acc: 0.3040\n",
      "Epoch 42/100\n",
      "1070994/1070994 [==============================] - 172s 160us/step - loss: 0.9946 - acc: 0.3034\n",
      "Epoch 43/100\n",
      "1070994/1070994 [==============================] - 172s 160us/step - loss: 0.9946 - acc: 0.3033\n",
      "Epoch 44/100\n",
      "1070994/1070994 [==============================] - 173s 161us/step - loss: 0.9947 - acc: 0.3018\n",
      "Epoch 45/100\n",
      "1070994/1070994 [==============================] - 172s 160us/step - loss: 0.9946 - acc: 0.3060\n",
      "Epoch 46/100\n",
      "1070994/1070994 [==============================] - 171s 160us/step - loss: 0.9946 - acc: 0.3012\n",
      "Epoch 47/100\n",
      "1070994/1070994 [==============================] - 172s 160us/step - loss: 0.9945 - acc: 0.3035\n",
      "Epoch 48/100\n",
      "1070994/1070994 [==============================] - 172s 160us/step - loss: 0.9948 - acc: 0.3015\n",
      "Epoch 49/100\n",
      "1070994/1070994 [==============================] - 172s 160us/step - loss: 0.9947 - acc: 0.3012\n",
      "Epoch 50/100\n",
      "1070994/1070994 [==============================] - 172s 160us/step - loss: 0.9946 - acc: 0.3051\n",
      "Epoch 51/100\n",
      "1070994/1070994 [==============================] - 172s 160us/step - loss: 0.9946 - acc: 0.3023\n",
      "Epoch 52/100\n",
      "1070994/1070994 [==============================] - 174s 163us/step - loss: 0.9945 - acc: 0.3002\n",
      "Epoch 53/100\n",
      "1070994/1070994 [==============================] - 172s 160us/step - loss: 0.9947 - acc: 0.3044\n",
      "Epoch 54/100\n",
      "1070994/1070994 [==============================] - 172s 161us/step - loss: 0.9943 - acc: 0.3046\n",
      "Epoch 55/100\n",
      "1070994/1070994 [==============================] - 172s 161us/step - loss: 0.9941 - acc: 0.3041\n",
      "Epoch 56/100\n",
      "1070994/1070994 [==============================] - 172s 161us/step - loss: 0.9944 - acc: 0.3006\n",
      "Epoch 57/100\n",
      "1070994/1070994 [==============================] - 172s 161us/step - loss: 0.9945 - acc: 0.3001\n",
      "Epoch 58/100\n",
      "1070994/1070994 [==============================] - 172s 161us/step - loss: 0.9946 - acc: 0.3042\n",
      "Epoch 59/100\n",
      "1070994/1070994 [==============================] - 172s 161us/step - loss: 0.9947 - acc: 0.3047\n",
      "Epoch 60/100\n",
      "1070994/1070994 [==============================] - 172s 160us/step - loss: 0.9947 - acc: 0.3057\n",
      "Epoch 61/100\n",
      "1070994/1070994 [==============================] - 173s 161us/step - loss: 0.9946 - acc: 0.3052\n",
      "Epoch 62/100\n",
      "1070994/1070994 [==============================] - 172s 161us/step - loss: 0.9946 - acc: 0.3100\n",
      "Epoch 63/100\n",
      "1070994/1070994 [==============================] - 172s 161us/step - loss: 0.9944 - acc: 0.3025\n",
      "Epoch 64/100\n",
      "1070994/1070994 [==============================] - 173s 161us/step - loss: 0.9942 - acc: 0.3065\n",
      "Epoch 65/100\n",
      "1070994/1070994 [==============================] - 174s 163us/step - loss: 0.9941 - acc: 0.3082\n",
      "Epoch 66/100\n",
      "1070994/1070994 [==============================] - 172s 161us/step - loss: 0.9942 - acc: 0.2962\n",
      "Epoch 67/100\n",
      "1070994/1070994 [==============================] - 172s 161us/step - loss: 0.9944 - acc: 0.3053\n",
      "Epoch 68/100\n",
      "1070994/1070994 [==============================] - 174s 163us/step - loss: 0.9944 - acc: 0.3039\n",
      "Epoch 69/100\n",
      "1070994/1070994 [==============================] - 172s 161us/step - loss: 0.9945 - acc: 0.3038\n",
      "Epoch 70/100\n",
      "1070994/1070994 [==============================] - 172s 161us/step - loss: 0.9946 - acc: 0.3108\n",
      "Epoch 71/100\n",
      "1070994/1070994 [==============================] - 176s 164us/step - loss: 0.9946 - acc: 0.3083\n",
      "Epoch 72/100\n",
      "1070994/1070994 [==============================] - 173s 161us/step - loss: 0.9946 - acc: 0.3074\n",
      "Epoch 73/100\n",
      "1070994/1070994 [==============================] - 173s 161us/step - loss: 0.9946 - acc: 0.3081\n",
      "Epoch 74/100\n",
      "1070994/1070994 [==============================] - 173s 161us/step - loss: 0.9946 - acc: 0.3056\n",
      "Epoch 75/100\n",
      "1070994/1070994 [==============================] - 173s 162us/step - loss: 0.9946 - acc: 0.3011\n",
      "Epoch 76/100\n"
     ]
    },
    {
     "name": "stdout",
     "output_type": "stream",
     "text": [
      "1070994/1070994 [==============================] - 165s 154us/step - loss: 0.9946 - acc: 0.3054\n",
      "Epoch 77/100\n",
      "1070994/1070994 [==============================] - 165s 154us/step - loss: 0.9946 - acc: 0.3050\n",
      "Epoch 78/100\n",
      "1070994/1070994 [==============================] - 165s 154us/step - loss: 0.9946 - acc: 0.3053\n",
      "Epoch 79/100\n",
      "1070994/1070994 [==============================] - 165s 154us/step - loss: 0.9946 - acc: 0.3030\n",
      "Epoch 80/100\n",
      "1070994/1070994 [==============================] - 165s 154us/step - loss: 0.9946 - acc: 0.3080\n",
      "Epoch 81/100\n",
      "1070994/1070994 [==============================] - 165s 154us/step - loss: 0.9947 - acc: 0.3091\n",
      "Epoch 82/100\n",
      "1070994/1070994 [==============================] - 166s 155us/step - loss: 0.9946 - acc: 0.3073\n",
      "Epoch 83/100\n",
      "1070994/1070994 [==============================] - 165s 154us/step - loss: 0.9950 - acc: 0.3067\n",
      "Epoch 84/100\n",
      "1070994/1070994 [==============================] - 166s 155us/step - loss: 0.9946 - acc: 0.3072\n",
      "Epoch 85/100\n",
      "1070994/1070994 [==============================] - 165s 154us/step - loss: 0.9944 - acc: 0.2980\n",
      "Epoch 86/100\n",
      "1070994/1070994 [==============================] - 165s 154us/step - loss: 0.9943 - acc: 0.3062\n",
      "Epoch 87/100\n",
      "1070994/1070994 [==============================] - 166s 155us/step - loss: 0.9943 - acc: 0.3072\n",
      "Epoch 88/100\n",
      "1070994/1070994 [==============================] - 165s 154us/step - loss: 0.9944 - acc: 0.2987\n",
      "Epoch 89/100\n",
      "1070994/1070994 [==============================] - 165s 155us/step - loss: 0.9946 - acc: 0.3021\n",
      "Epoch 90/100\n",
      "1070994/1070994 [==============================] - 165s 154us/step - loss: 0.9946 - acc: 0.3032\n",
      "Epoch 91/100\n",
      "1070994/1070994 [==============================] - 165s 154us/step - loss: 0.9946 - acc: 0.3044\n",
      "Epoch 92/100\n",
      "1070994/1070994 [==============================] - 165s 154us/step - loss: 0.9946 - acc: 0.3011\n",
      "Epoch 93/100\n",
      "1070994/1070994 [==============================] - 172s 161us/step - loss: 0.9946 - acc: 0.3030\n",
      "Epoch 94/100\n",
      "1070994/1070994 [==============================] - 171s 160us/step - loss: 0.9946 - acc: 0.3002\n",
      "Epoch 95/100\n",
      "1070994/1070994 [==============================] - 171s 159us/step - loss: 0.9946 - acc: 0.2998\n",
      "Epoch 96/100\n",
      "1070994/1070994 [==============================] - 172s 160us/step - loss: 0.9946 - acc: 0.3034\n",
      "Epoch 97/100\n",
      "1070994/1070994 [==============================] - 171s 159us/step - loss: 0.9946 - acc: 0.3027\n",
      "Epoch 98/100\n",
      "1070994/1070994 [==============================] - 168s 156us/step - loss: 0.9945 - acc: 0.3030\n",
      "Epoch 99/100\n",
      "1070994/1070994 [==============================] - 166s 155us/step - loss: 0.9945 - acc: 0.3014\n",
      "Epoch 100/100\n",
      "1070994/1070994 [==============================] - 166s 155us/step - loss: 0.9946 - acc: 0.3010\n"
     ]
    }
   ],
   "source": [
    "output=autoencoder.fit(train,train, epochs = 100)"
   ]
  },
  {
   "cell_type": "code",
   "execution_count": 12,
   "metadata": {
    "ExecuteTime": {
     "end_time": "2019-02-16T16:53:11.122213Z",
     "start_time": "2019-02-16T16:52:36.801530Z"
    }
   },
   "outputs": [],
   "source": [
    "ans = autoencoder.predict(train)"
   ]
  },
  {
   "cell_type": "code",
   "execution_count": 13,
   "metadata": {
    "ExecuteTime": {
     "end_time": "2019-02-16T16:53:11.130217Z",
     "start_time": "2019-02-16T16:53:11.124231Z"
    }
   },
   "outputs": [],
   "source": [
    "ans = pd.DataFrame(ans)"
   ]
  },
  {
   "cell_type": "code",
   "execution_count": 25,
   "metadata": {
    "ExecuteTime": {
     "end_time": "2019-02-17T00:03:13.585659Z",
     "start_time": "2019-02-17T00:02:56.223864Z"
    }
   },
   "outputs": [],
   "source": [
    "ans.to_csv('ans_Reconstructed.csv',index=False)"
   ]
  },
  {
   "cell_type": "code",
   "execution_count": 23,
   "metadata": {
    "ExecuteTime": {
     "end_time": "2019-02-17T00:01:36.634655Z",
     "start_time": "2019-02-17T00:01:36.619695Z"
    }
   },
   "outputs": [
    {
     "data": {
      "text/plain": [
       "0.0011912730988115072"
      ]
     },
     "execution_count": 23,
     "metadata": {},
     "output_type": "execute_result"
    }
   ],
   "source": [
    "ans.iloc[:,2].mean()\n"
   ]
  },
  {
   "cell_type": "code",
   "execution_count": 24,
   "metadata": {
    "ExecuteTime": {
     "end_time": "2019-02-17T00:01:39.219496Z",
     "start_time": "2019-02-17T00:01:39.209525Z"
    }
   },
   "outputs": [
    {
     "data": {
      "text/plain": [
       "-9.43458376834995e-18"
      ]
     },
     "execution_count": 24,
     "metadata": {},
     "output_type": "execute_result"
    }
   ],
   "source": [
    "pd.DataFrame(train).iloc[:,2].mean()"
   ]
  },
  {
   "cell_type": "code",
   "execution_count": 14,
   "metadata": {
    "ExecuteTime": {
     "end_time": "2019-02-16T16:53:13.074447Z",
     "start_time": "2019-02-16T16:53:11.135203Z"
    },
    "scrolled": false
   },
   "outputs": [
    {
     "data": {
      "text/plain": [
       "0          0.056584\n",
       "1          0.039952\n",
       "2          0.400472\n",
       "3          0.138758\n",
       "4          0.099675\n",
       "5          0.032588\n",
       "6          0.045342\n",
       "7          0.072760\n",
       "8          0.038966\n",
       "9          0.043787\n",
       "10         0.043993\n",
       "11         0.041094\n",
       "12         0.047367\n",
       "13         0.145221\n",
       "14         0.042593\n",
       "15         0.121265\n",
       "16         0.041451\n",
       "17         0.031372\n",
       "18         0.035269\n",
       "19         0.023543\n",
       "20         0.436443\n",
       "21         0.052399\n",
       "22         0.040813\n",
       "23         0.052563\n",
       "24         0.046866\n",
       "25         0.041340\n",
       "26         0.034733\n",
       "27         0.031289\n",
       "28         0.032818\n",
       "29         0.038915\n",
       "             ...   \n",
       "1070964    0.090639\n",
       "1070965    0.042188\n",
       "1070966    0.011762\n",
       "1070967    0.015606\n",
       "1070968    0.016138\n",
       "1070969    0.018495\n",
       "1070970    0.085547\n",
       "1070971    0.028101\n",
       "1070972    0.040079\n",
       "1070973    0.039875\n",
       "1070974    0.089278\n",
       "1070975    0.027033\n",
       "1070976    0.097878\n",
       "1070977    0.060603\n",
       "1070978    0.048072\n",
       "1070979    0.027288\n",
       "1070980    0.015847\n",
       "1070981    0.014914\n",
       "1070982    0.023082\n",
       "1070983    0.022214\n",
       "1070984    0.060176\n",
       "1070985    0.048579\n",
       "1070986    0.013571\n",
       "1070987    0.012059\n",
       "1070988    0.045226\n",
       "1070989    0.061490\n",
       "1070990    0.017809\n",
       "1070991    0.045375\n",
       "1070992    0.029894\n",
       "1070993    0.012935\n",
       "Length: 1070994, dtype: float64"
      ]
     },
     "execution_count": 14,
     "metadata": {},
     "output_type": "execute_result"
    }
   ],
   "source": [
    "#n=1\n",
    "manhattan = (ans - pd.DataFrame(train)).abs()\n",
    "manhattan_score = manhattan.sum(axis = 1)\n",
    "manhattan_score"
   ]
  },
  {
   "cell_type": "code",
   "execution_count": null,
   "metadata": {},
   "outputs": [],
   "source": [
    "m"
   ]
  },
  {
   "cell_type": "code",
   "execution_count": 15,
   "metadata": {
    "ExecuteTime": {
     "end_time": "2019-02-16T16:53:13.551795Z",
     "start_time": "2019-02-16T16:53:13.077416Z"
    },
    "scrolled": true
   },
   "outputs": [
    {
     "data": {
      "text/plain": [
       "0          0.023870\n",
       "1          0.017979\n",
       "2          0.230180\n",
       "3          0.061549\n",
       "4          0.047285\n",
       "5          0.014268\n",
       "6          0.023121\n",
       "7          0.032861\n",
       "8          0.016512\n",
       "9          0.019142\n",
       "10         0.019184\n",
       "11         0.019476\n",
       "12         0.020633\n",
       "13         0.064966\n",
       "14         0.020921\n",
       "15         0.058498\n",
       "16         0.019058\n",
       "17         0.016000\n",
       "18         0.015907\n",
       "19         0.010509\n",
       "20         0.220826\n",
       "21         0.025459\n",
       "22         0.018299\n",
       "23         0.025476\n",
       "24         0.021624\n",
       "25         0.017839\n",
       "26         0.014971\n",
       "27         0.014432\n",
       "28         0.016478\n",
       "29         0.017535\n",
       "             ...   \n",
       "1070964    0.041256\n",
       "1070965    0.019214\n",
       "1070966    0.005286\n",
       "1070967    0.007520\n",
       "1070968    0.008372\n",
       "1070969    0.008226\n",
       "1070970    0.037572\n",
       "1070971    0.015051\n",
       "1070972    0.022039\n",
       "1070973    0.019219\n",
       "1070974    0.041081\n",
       "1070975    0.012410\n",
       "1070976    0.044779\n",
       "1070977    0.030270\n",
       "1070978    0.021202\n",
       "1070979    0.012288\n",
       "1070980    0.007275\n",
       "1070981    0.006684\n",
       "1070982    0.010354\n",
       "1070983    0.009535\n",
       "1070984    0.030728\n",
       "1070985    0.021502\n",
       "1070986    0.006446\n",
       "1070987    0.005262\n",
       "1070988    0.019927\n",
       "1070989    0.029441\n",
       "1070990    0.008581\n",
       "1070991    0.019899\n",
       "1070992    0.013015\n",
       "1070993    0.006167\n",
       "Length: 1070994, dtype: float64"
      ]
     },
     "execution_count": 15,
     "metadata": {},
     "output_type": "execute_result"
    }
   ],
   "source": [
    "#n=2\n",
    "euclidean = (((ans - pd.DataFrame(train)).abs())**2).sum(axis=1)\n",
    "euclidean_score = euclidean**(1/2)\n",
    "euclidean_score"
   ]
  },
  {
   "cell_type": "code",
   "execution_count": 16,
   "metadata": {
    "ExecuteTime": {
     "end_time": "2019-02-16T16:53:13.789066Z",
     "start_time": "2019-02-16T16:53:13.554791Z"
    }
   },
   "outputs": [],
   "source": [
    "manhattan_score=pd.DataFrame(manhattan_score)\n",
    "euclidean_score=pd.DataFrame(euclidean_score)\n",
    "fraud_score_AE= pd.concat([manhattan_score,euclidean_score], axis=1)\n",
    "fraud_score_AE.columns=['Manhattan Score','Euclidean Score']"
   ]
  },
  {
   "cell_type": "code",
   "execution_count": 17,
   "metadata": {
    "ExecuteTime": {
     "end_time": "2019-02-16T16:53:13.973333Z",
     "start_time": "2019-02-16T16:53:13.791902Z"
    }
   },
   "outputs": [],
   "source": [
    "fraud_score_AE.insert(0,'Record',fraud_score_AE.index+1)"
   ]
  },
  {
   "cell_type": "code",
   "execution_count": 18,
   "metadata": {
    "ExecuteTime": {
     "end_time": "2019-02-16T16:53:14.566080Z",
     "start_time": "2019-02-16T16:53:13.976166Z"
    }
   },
   "outputs": [
    {
     "data": {
      "text/html": [
       "<div>\n",
       "<style scoped>\n",
       "    .dataframe tbody tr th:only-of-type {\n",
       "        vertical-align: middle;\n",
       "    }\n",
       "\n",
       "    .dataframe tbody tr th {\n",
       "        vertical-align: top;\n",
       "    }\n",
       "\n",
       "    .dataframe thead th {\n",
       "        text-align: right;\n",
       "    }\n",
       "</style>\n",
       "<table border=\"1\" class=\"dataframe\">\n",
       "  <thead>\n",
       "    <tr style=\"text-align: right;\">\n",
       "      <th></th>\n",
       "      <th>Record</th>\n",
       "      <th>Manhattan Score</th>\n",
       "      <th>Euclidean Score</th>\n",
       "    </tr>\n",
       "  </thead>\n",
       "  <tbody>\n",
       "    <tr>\n",
       "      <th>count</th>\n",
       "      <td>1.070994e+06</td>\n",
       "      <td>1.070994e+06</td>\n",
       "      <td>1.070994e+06</td>\n",
       "    </tr>\n",
       "    <tr>\n",
       "      <th>mean</th>\n",
       "      <td>5.354975e+05</td>\n",
       "      <td>9.391115e-02</td>\n",
       "      <td>4.231858e-02</td>\n",
       "    </tr>\n",
       "    <tr>\n",
       "      <th>std</th>\n",
       "      <td>3.091695e+05</td>\n",
       "      <td>6.676866e+00</td>\n",
       "      <td>2.638546e+00</td>\n",
       "    </tr>\n",
       "    <tr>\n",
       "      <th>min</th>\n",
       "      <td>1.000000e+00</td>\n",
       "      <td>6.131819e-03</td>\n",
       "      <td>3.535883e-03</td>\n",
       "    </tr>\n",
       "    <tr>\n",
       "      <th>25%</th>\n",
       "      <td>2.677492e+05</td>\n",
       "      <td>2.212938e-02</td>\n",
       "      <td>9.989042e-03</td>\n",
       "    </tr>\n",
       "    <tr>\n",
       "      <th>50%</th>\n",
       "      <td>5.354975e+05</td>\n",
       "      <td>2.920580e-02</td>\n",
       "      <td>1.340879e-02</td>\n",
       "    </tr>\n",
       "    <tr>\n",
       "      <th>75%</th>\n",
       "      <td>8.032458e+05</td>\n",
       "      <td>4.467034e-02</td>\n",
       "      <td>2.036522e-02</td>\n",
       "    </tr>\n",
       "    <tr>\n",
       "      <th>max</th>\n",
       "      <td>1.070994e+06</td>\n",
       "      <td>4.060946e+03</td>\n",
       "      <td>1.560318e+03</td>\n",
       "    </tr>\n",
       "  </tbody>\n",
       "</table>\n",
       "</div>"
      ],
      "text/plain": [
       "             Record  Manhattan Score  Euclidean Score\n",
       "count  1.070994e+06     1.070994e+06     1.070994e+06\n",
       "mean   5.354975e+05     9.391115e-02     4.231858e-02\n",
       "std    3.091695e+05     6.676866e+00     2.638546e+00\n",
       "min    1.000000e+00     6.131819e-03     3.535883e-03\n",
       "25%    2.677492e+05     2.212938e-02     9.989042e-03\n",
       "50%    5.354975e+05     2.920580e-02     1.340879e-02\n",
       "75%    8.032458e+05     4.467034e-02     2.036522e-02\n",
       "max    1.070994e+06     4.060946e+03     1.560318e+03"
      ]
     },
     "execution_count": 18,
     "metadata": {},
     "output_type": "execute_result"
    }
   ],
   "source": [
    "fraud_score_AE.describe()"
   ]
  },
  {
   "cell_type": "code",
   "execution_count": 19,
   "metadata": {
    "ExecuteTime": {
     "end_time": "2019-02-16T16:53:21.546295Z",
     "start_time": "2019-02-16T16:53:14.569065Z"
    }
   },
   "outputs": [],
   "source": [
    "fraud_score_AE.to_csv('fraud_score_AE.csv',index=False)"
   ]
  },
  {
   "cell_type": "code",
   "execution_count": 26,
   "metadata": {
    "ExecuteTime": {
     "end_time": "2019-02-17T00:20:57.200120Z",
     "start_time": "2019-02-17T00:20:57.174216Z"
    }
   },
   "outputs": [
    {
     "data": {
      "text/html": [
       "<div>\n",
       "<style scoped>\n",
       "    .dataframe tbody tr th:only-of-type {\n",
       "        vertical-align: middle;\n",
       "    }\n",
       "\n",
       "    .dataframe tbody tr th {\n",
       "        vertical-align: top;\n",
       "    }\n",
       "\n",
       "    .dataframe thead th {\n",
       "        text-align: right;\n",
       "    }\n",
       "</style>\n",
       "<table border=\"1\" class=\"dataframe\">\n",
       "  <thead>\n",
       "    <tr style=\"text-align: right;\">\n",
       "      <th></th>\n",
       "      <th>Record</th>\n",
       "      <th>Manhattan Score</th>\n",
       "      <th>Euclidean Score</th>\n",
       "    </tr>\n",
       "  </thead>\n",
       "  <tbody>\n",
       "    <tr>\n",
       "      <th>0</th>\n",
       "      <td>1</td>\n",
       "      <td>0.056584</td>\n",
       "      <td>0.023870</td>\n",
       "    </tr>\n",
       "    <tr>\n",
       "      <th>1</th>\n",
       "      <td>2</td>\n",
       "      <td>0.039952</td>\n",
       "      <td>0.017979</td>\n",
       "    </tr>\n",
       "    <tr>\n",
       "      <th>2</th>\n",
       "      <td>3</td>\n",
       "      <td>0.400472</td>\n",
       "      <td>0.230180</td>\n",
       "    </tr>\n",
       "    <tr>\n",
       "      <th>3</th>\n",
       "      <td>4</td>\n",
       "      <td>0.138758</td>\n",
       "      <td>0.061549</td>\n",
       "    </tr>\n",
       "    <tr>\n",
       "      <th>4</th>\n",
       "      <td>5</td>\n",
       "      <td>0.099675</td>\n",
       "      <td>0.047285</td>\n",
       "    </tr>\n",
       "  </tbody>\n",
       "</table>\n",
       "</div>"
      ],
      "text/plain": [
       "   Record  Manhattan Score  Euclidean Score\n",
       "0       1         0.056584         0.023870\n",
       "1       2         0.039952         0.017979\n",
       "2       3         0.400472         0.230180\n",
       "3       4         0.138758         0.061549\n",
       "4       5         0.099675         0.047285"
      ]
     },
     "execution_count": 26,
     "metadata": {},
     "output_type": "execute_result"
    }
   ],
   "source": [
    "fraud_score_AE.head()"
   ]
  },
  {
   "cell_type": "code",
   "execution_count": 72,
   "metadata": {
    "ExecuteTime": {
     "end_time": "2019-02-17T07:15:19.529817Z",
     "start_time": "2019-02-17T07:15:19.525831Z"
    }
   },
   "outputs": [],
   "source": [
    "#dfNY = pd.read_csv(\"NY property data.csv\")"
   ]
  },
  {
   "cell_type": "code",
   "execution_count": 99,
   "metadata": {
    "ExecuteTime": {
     "end_time": "2019-02-17T08:23:07.975319Z",
     "start_time": "2019-02-17T08:23:07.943398Z"
    }
   },
   "outputs": [],
   "source": [
    "#eucScr = fraud_score_AE.drop('Manhattan Score', axis=1)"
   ]
  },
  {
   "cell_type": "code",
   "execution_count": 100,
   "metadata": {
    "ExecuteTime": {
     "end_time": "2019-02-17T08:23:14.767139Z",
     "start_time": "2019-02-17T08:23:14.757168Z"
    },
    "scrolled": true
   },
   "outputs": [
    {
     "data": {
      "text/html": [
       "<div>\n",
       "<style scoped>\n",
       "    .dataframe tbody tr th:only-of-type {\n",
       "        vertical-align: middle;\n",
       "    }\n",
       "\n",
       "    .dataframe tbody tr th {\n",
       "        vertical-align: top;\n",
       "    }\n",
       "\n",
       "    .dataframe thead th {\n",
       "        text-align: right;\n",
       "    }\n",
       "</style>\n",
       "<table border=\"1\" class=\"dataframe\">\n",
       "  <thead>\n",
       "    <tr style=\"text-align: right;\">\n",
       "      <th></th>\n",
       "      <th>Record</th>\n",
       "      <th>Euclidean Score</th>\n",
       "    </tr>\n",
       "  </thead>\n",
       "  <tbody>\n",
       "    <tr>\n",
       "      <th>0</th>\n",
       "      <td>1</td>\n",
       "      <td>0.023870</td>\n",
       "    </tr>\n",
       "    <tr>\n",
       "      <th>1</th>\n",
       "      <td>2</td>\n",
       "      <td>0.017979</td>\n",
       "    </tr>\n",
       "    <tr>\n",
       "      <th>2</th>\n",
       "      <td>3</td>\n",
       "      <td>0.230180</td>\n",
       "    </tr>\n",
       "    <tr>\n",
       "      <th>3</th>\n",
       "      <td>4</td>\n",
       "      <td>0.061549</td>\n",
       "    </tr>\n",
       "    <tr>\n",
       "      <th>4</th>\n",
       "      <td>5</td>\n",
       "      <td>0.047285</td>\n",
       "    </tr>\n",
       "  </tbody>\n",
       "</table>\n",
       "</div>"
      ],
      "text/plain": [
       "   Record  Euclidean Score\n",
       "0       1         0.023870\n",
       "1       2         0.017979\n",
       "2       3         0.230180\n",
       "3       4         0.061549\n",
       "4       5         0.047285"
      ]
     },
     "execution_count": 100,
     "metadata": {},
     "output_type": "execute_result"
    }
   ],
   "source": [
    "#eucScr.head()"
   ]
  },
  {
   "cell_type": "code",
   "execution_count": 105,
   "metadata": {
    "ExecuteTime": {
     "end_time": "2019-02-17T08:58:11.961981Z",
     "start_time": "2019-02-17T08:58:11.332574Z"
    }
   },
   "outputs": [],
   "source": [
    "#bins=eucScr.shape[0]\n",
    "#colName='Euclidean Score'\n",
    "#eucScr['Euclidean Rank'] = eucScr['Euclidean Score'].rank(ascending=1)\n",
    "fraud_score_AE['Euclidean Rank'] = fraud_score_AE['Euclidean Score'].rank(ascending=1)\n",
    "fraud_score_AE['Manhattan Rank'] = fraud_score_AE['Manhattan Score'].rank(ascending=1)"
   ]
  },
  {
   "cell_type": "code",
   "execution_count": 106,
   "metadata": {
    "ExecuteTime": {
     "end_time": "2019-02-17T08:58:14.766250Z",
     "start_time": "2019-02-17T08:58:14.754281Z"
    },
    "scrolled": true
   },
   "outputs": [
    {
     "data": {
      "text/html": [
       "<div>\n",
       "<style scoped>\n",
       "    .dataframe tbody tr th:only-of-type {\n",
       "        vertical-align: middle;\n",
       "    }\n",
       "\n",
       "    .dataframe tbody tr th {\n",
       "        vertical-align: top;\n",
       "    }\n",
       "\n",
       "    .dataframe thead th {\n",
       "        text-align: right;\n",
       "    }\n",
       "</style>\n",
       "<table border=\"1\" class=\"dataframe\">\n",
       "  <thead>\n",
       "    <tr style=\"text-align: right;\">\n",
       "      <th></th>\n",
       "      <th>Record</th>\n",
       "      <th>Manhattan Score</th>\n",
       "      <th>Euclidean Score</th>\n",
       "      <th>Euclidean Rank</th>\n",
       "      <th>Manhattan Rank</th>\n",
       "    </tr>\n",
       "  </thead>\n",
       "  <tbody>\n",
       "    <tr>\n",
       "      <th>0</th>\n",
       "      <td>1</td>\n",
       "      <td>0.056584</td>\n",
       "      <td>0.023870</td>\n",
       "      <td>892429.0</td>\n",
       "      <td>919927.0</td>\n",
       "    </tr>\n",
       "    <tr>\n",
       "      <th>1</th>\n",
       "      <td>2</td>\n",
       "      <td>0.039952</td>\n",
       "      <td>0.017979</td>\n",
       "      <td>733476.0</td>\n",
       "      <td>738537.0</td>\n",
       "    </tr>\n",
       "    <tr>\n",
       "      <th>2</th>\n",
       "      <td>3</td>\n",
       "      <td>0.400472</td>\n",
       "      <td>0.230180</td>\n",
       "      <td>1060936.0</td>\n",
       "      <td>1058333.0</td>\n",
       "    </tr>\n",
       "    <tr>\n",
       "      <th>3</th>\n",
       "      <td>4</td>\n",
       "      <td>0.138758</td>\n",
       "      <td>0.061549</td>\n",
       "      <td>1020751.0</td>\n",
       "      <td>1024992.0</td>\n",
       "    </tr>\n",
       "    <tr>\n",
       "      <th>4</th>\n",
       "      <td>5</td>\n",
       "      <td>0.099675</td>\n",
       "      <td>0.047285</td>\n",
       "      <td>1001707.5</td>\n",
       "      <td>1001755.5</td>\n",
       "    </tr>\n",
       "  </tbody>\n",
       "</table>\n",
       "</div>"
      ],
      "text/plain": [
       "   Record  Manhattan Score  Euclidean Score  Euclidean Rank  Manhattan Rank\n",
       "0       1         0.056584         0.023870        892429.0        919927.0\n",
       "1       2         0.039952         0.017979        733476.0        738537.0\n",
       "2       3         0.400472         0.230180       1060936.0       1058333.0\n",
       "3       4         0.138758         0.061549       1020751.0       1024992.0\n",
       "4       5         0.099675         0.047285       1001707.5       1001755.5"
      ]
     },
     "execution_count": 106,
     "metadata": {},
     "output_type": "execute_result"
    }
   ],
   "source": [
    "fraud_score_AE.head()"
   ]
  },
  {
   "cell_type": "code",
   "execution_count": 109,
   "metadata": {
    "ExecuteTime": {
     "end_time": "2019-02-17T10:30:09.234921Z",
     "start_time": "2019-02-17T10:30:09.217937Z"
    }
   },
   "outputs": [
    {
     "data": {
      "text/html": [
       "<div>\n",
       "<style scoped>\n",
       "    .dataframe tbody tr th:only-of-type {\n",
       "        vertical-align: middle;\n",
       "    }\n",
       "\n",
       "    .dataframe tbody tr th {\n",
       "        vertical-align: top;\n",
       "    }\n",
       "\n",
       "    .dataframe thead th {\n",
       "        text-align: right;\n",
       "    }\n",
       "</style>\n",
       "<table border=\"1\" class=\"dataframe\">\n",
       "  <thead>\n",
       "    <tr style=\"text-align: right;\">\n",
       "      <th></th>\n",
       "      <th>Record</th>\n",
       "      <th>Manhattan Score</th>\n",
       "      <th>Euclidean Score</th>\n",
       "      <th>Euclidean Rank</th>\n",
       "      <th>Manhattan Rank</th>\n",
       "    </tr>\n",
       "  </thead>\n",
       "  <tbody>\n",
       "    <tr>\n",
       "      <th>1025884</th>\n",
       "      <td>1025885</td>\n",
       "      <td>0.010858</td>\n",
       "      <td>0.004784</td>\n",
       "      <td>357.0</td>\n",
       "      <td>1000.0</td>\n",
       "    </tr>\n",
       "  </tbody>\n",
       "</table>\n",
       "</div>"
      ],
      "text/plain": [
       "          Record  Manhattan Score  Euclidean Score  Euclidean Rank  \\\n",
       "1025884  1025885         0.010858         0.004784           357.0   \n",
       "\n",
       "         Manhattan Rank  \n",
       "1025884          1000.0  "
      ]
     },
     "execution_count": 109,
     "metadata": {},
     "output_type": "execute_result"
    }
   ],
   "source": [
    "fraud_score_AE.loc[fraud_score_AE['Manhattan Rank'] == 1000]"
   ]
  },
  {
   "cell_type": "code",
   "execution_count": 107,
   "metadata": {
    "ExecuteTime": {
     "end_time": "2019-02-17T08:58:28.887851Z",
     "start_time": "2019-02-17T08:58:19.480739Z"
    }
   },
   "outputs": [],
   "source": [
    "fraud_score_AE.to_csv('fraud_ScoreAndRanks_AE.csv',index=False)"
   ]
  },
  {
   "cell_type": "code",
   "execution_count": 29,
   "metadata": {
    "ExecuteTime": {
     "end_time": "2019-02-17T00:24:13.195987Z",
     "start_time": "2019-02-17T00:24:12.334295Z"
    }
   },
   "outputs": [
    {
     "name": "stderr",
     "output_type": "stream",
     "text": [
      "C:\\Users\\Gregy\\Anaconda3\\Anaconda3_USC\\lib\\site-packages\\matplotlib\\axes\\_axes.py:6462: UserWarning: The 'normed' kwarg is deprecated, and has been replaced by the 'density' kwarg.\n",
      "  warnings.warn(\"The 'normed' kwarg is deprecated, and has been \"\n"
     ]
    },
    {
     "data": {
      "image/png": "[encoded data removed]",
      "text/plain": [
       "<Figure size 432x288 with 1 Axes>"
      ]
     },
     "metadata": {},
     "output_type": "display_data"
    }
   ],
   "source": [
    "import seaborn as sns\n",
    "import matplotlib.pyplot as plt\n",
    "sns.distplot(fraud_score_AE['Manhattan Score'],bins=100, kde=True)\n",
    "#plt.title('Distribution of :'+col1)\n",
    "#plt.ylabel('Density of probability', fontsize=12)\n",
    "#plt.xlabel(col1, fontsize=12)\n",
    "#plt.savefig(\"imgs/\"+col1+\".png\")\n",
    "plt.show()\n"
   ]
  },
  {
   "cell_type": "code",
   "execution_count": 56,
   "metadata": {
    "ExecuteTime": {
     "end_time": "2019-02-17T06:47:43.959935Z",
     "start_time": "2019-02-17T06:47:24.282502Z"
    }
   },
   "outputs": [
    {
     "name": "stderr",
     "output_type": "stream",
     "text": [
      "C:\\Users\\Gregy\\Anaconda3\\Anaconda3_USC\\lib\\site-packages\\matplotlib\\axes\\_axes.py:6462: UserWarning: The 'normed' kwarg is deprecated, and has been replaced by the 'density' kwarg.\n",
      "  warnings.warn(\"The 'normed' kwarg is deprecated, and has been \"\n"
     ]
    },
    {
     "data": {
      "image/png": "[encoded data removed]",
      "text/plain": [
       "<Figure size 432x288 with 1 Axes>"
      ]
     },
     "metadata": {},
     "output_type": "display_data"
    }
   ],
   "source": [
    "colName='Manhattan Score'\n",
    "xhigh =1.25\n",
    "#sns.plt.xlim(0,xhigh)\n",
    "temp = fraud_score_AE[fraud_score_AE[colName] <= xhigh]\n",
    "sns.distplot(temp[colName],bins=10000, kde=True)\n",
    "plt.title('Distribution of :'+colName)\n",
    "plt.xscale('log')\n",
    "plt.ylabel('Density of probability', fontsize=12)\n",
    "plt.ylim((0.00, 25)) \n",
    "#plt.xlim((0.00, 25)) \n",
    "plt.xlabel(colName, fontsize=12)\n",
    "#plt.savefig(\"imgs/\"+colName+\".png\")\n",
    "plt.show()"
   ]
  },
  {
   "cell_type": "code",
   "execution_count": 57,
   "metadata": {
    "ExecuteTime": {
     "end_time": "2019-02-17T06:54:32.453364Z",
     "start_time": "2019-02-17T06:54:08.472464Z"
    },
    "scrolled": true
   },
   "outputs": [
    {
     "name": "stderr",
     "output_type": "stream",
     "text": [
      "C:\\Users\\Gregy\\Anaconda3\\Anaconda3_USC\\lib\\site-packages\\matplotlib\\axes\\_axes.py:6462: UserWarning: The 'normed' kwarg is deprecated, and has been replaced by the 'density' kwarg.\n",
      "  warnings.warn(\"The 'normed' kwarg is deprecated, and has been \"\n"
     ]
    },
    {
     "data": {
      "image/png": "[encoded data removed]",
      "text/plain": [
       "<Figure size 432x288 with 1 Axes>"
      ]
     },
     "metadata": {},
     "output_type": "display_data"
    }
   ],
   "source": [
    "colName='Euclidean Score'\n",
    "xhigh =1.25\n",
    "#sns.plt.xlim(0,xhigh)\n",
    "#temp = fraud_score_AE\n",
    "temp = fraud_score_AE[fraud_score_AE[colName] <= xhigh]\n",
    "sns.distplot(temp[colName],bins=10000, kde=True)\n",
    "plt.title('Distribution of :'+colName)\n",
    "plt.xscale('log')\n",
    "plt.ylabel('Density of probability', fontsize=12)\n",
    "plt.ylim((0.00, 25)) \n",
    "#plt.xlim((0.00, 25)) \n",
    "plt.xlabel(colName, fontsize=12)\n",
    "#plt.savefig(\"imgs/\"+colName+\".png\")\n",
    "plt.show()"
   ]
  },
  {
   "cell_type": "code",
   "execution_count": 50,
   "metadata": {
    "ExecuteTime": {
     "end_time": "2019-02-17T06:12:39.988529Z",
     "start_time": "2019-02-17T06:12:39.773073Z"
    }
   },
   "outputs": [],
   "source": [
    "bins=10\n",
    "colName='Euclidean Score'\n",
    "new_data = pd.qcut(fraud_score_AE[colName], bins, labels=list(range(bins)))"
   ]
  },
  {
   "cell_type": "code",
   "execution_count": 52,
   "metadata": {
    "ExecuteTime": {
     "end_time": "2019-02-17T06:13:32.519619Z",
     "start_time": "2019-02-17T06:13:32.498676Z"
    },
    "scrolled": true
   },
   "outputs": [
    {
     "data": {
      "text/plain": [
       "8    107110\n",
       "1    107102\n",
       "6    107100\n",
       "3    107100\n",
       "0    107100\n",
       "7    107099\n",
       "5    107099\n",
       "4    107099\n",
       "2    107096\n",
       "9    107089\n",
       "Name: Euclidean Score, dtype: int64"
      ]
     },
     "execution_count": 52,
     "metadata": {},
     "output_type": "execute_result"
    }
   ],
   "source": [
    "type(new_data)\n",
    "new_data.value_counts()"
   ]
  },
  {
   "cell_type": "code",
   "execution_count": 53,
   "metadata": {
    "ExecuteTime": {
     "end_time": "2019-02-17T06:16:08.320601Z",
     "start_time": "2019-02-17T06:16:08.304643Z"
    }
   },
   "outputs": [
    {
     "data": {
      "text/html": [
       "<div>\n",
       "<style scoped>\n",
       "    .dataframe tbody tr th:only-of-type {\n",
       "        vertical-align: middle;\n",
       "    }\n",
       "\n",
       "    .dataframe tbody tr th {\n",
       "        vertical-align: top;\n",
       "    }\n",
       "\n",
       "    .dataframe thead th {\n",
       "        text-align: right;\n",
       "    }\n",
       "</style>\n",
       "<table border=\"1\" class=\"dataframe\">\n",
       "  <thead>\n",
       "    <tr style=\"text-align: right;\">\n",
       "      <th></th>\n",
       "      <th>Euclidean Score</th>\n",
       "    </tr>\n",
       "  </thead>\n",
       "  <tbody>\n",
       "    <tr>\n",
       "      <th>0</th>\n",
       "      <td>8</td>\n",
       "    </tr>\n",
       "    <tr>\n",
       "      <th>1</th>\n",
       "      <td>6</td>\n",
       "    </tr>\n",
       "    <tr>\n",
       "      <th>2</th>\n",
       "      <td>9</td>\n",
       "    </tr>\n",
       "    <tr>\n",
       "      <th>3</th>\n",
       "      <td>9</td>\n",
       "    </tr>\n",
       "    <tr>\n",
       "      <th>4</th>\n",
       "      <td>9</td>\n",
       "    </tr>\n",
       "  </tbody>\n",
       "</table>\n",
       "</div>"
      ],
      "text/plain": [
       "  Euclidean Score\n",
       "0               8\n",
       "1               6\n",
       "2               9\n",
       "3               9\n",
       "4               9"
      ]
     },
     "execution_count": 53,
     "metadata": {},
     "output_type": "execute_result"
    }
   ],
   "source": [
    "pd.DataFrame(new_data).head()"
   ]
  }
 ],
 "metadata": {
  "kernelspec": {
   "display_name": "Python 3",
   "language": "python",
   "name": "python3"
  },
  "language_info": {
   "codemirror_mode": {
    "name": "ipython",
    "version": 3
   },
   "file_extension": ".py",
   "mimetype": "text/x-python",
   "name": "python",
   "nbconvert_exporter": "python",
   "pygments_lexer": "ipython3",
   "version": "3.6.5"
  }
 },
 "nbformat": 4,
 "nbformat_minor": 2
}
