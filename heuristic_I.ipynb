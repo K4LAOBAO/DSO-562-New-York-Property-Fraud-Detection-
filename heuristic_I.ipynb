{
 "cells": [
  {
   "cell_type": "markdown",
   "metadata": {},
   "source": [
    "# Heuristic Model - fraud"
   ]
  },
  {
   "cell_type": "code",
   "execution_count": null,
   "metadata": {
    "ExecuteTime": {
     "end_time": "2019-02-17T09:23:43.227990Z",
     "start_time": "2019-02-17T09:23:33.884234Z"
    }
   },
   "outputs": [],
   "source": [
    "import pandas as pd\n",
    "import numpy as np"
   ]
  },
  {
   "cell_type": "code",
   "execution_count": 2,
   "metadata": {
    "ExecuteTime": {
     "end_time": "2019-02-17T09:23:55.992014Z",
     "start_time": "2019-02-17T09:23:51.166879Z"
    }
   },
   "outputs": [],
   "source": [
    "df = pd.read_csv(\"data_afterpca.csv\")"
   ]
  },
  {
   "cell_type": "code",
   "execution_count": 3,
   "metadata": {
    "ExecuteTime": {
     "end_time": "2019-02-17T09:23:59.011947Z",
     "start_time": "2019-02-17T09:23:58.899560Z"
    }
   },
   "outputs": [
    {
     "data": {
      "text/html": [
       "<div>\n",
       "<style scoped>\n",
       "    .dataframe tbody tr th:only-of-type {\n",
       "        vertical-align: middle;\n",
       "    }\n",
       "\n",
       "    .dataframe tbody tr th {\n",
       "        vertical-align: top;\n",
       "    }\n",
       "\n",
       "    .dataframe thead th {\n",
       "        text-align: right;\n",
       "    }\n",
       "</style>\n",
       "<table border=\"1\" class=\"dataframe\">\n",
       "  <thead>\n",
       "    <tr style=\"text-align: right;\">\n",
       "      <th></th>\n",
       "      <th>PC1</th>\n",
       "      <th>PC2</th>\n",
       "      <th>PC3</th>\n",
       "      <th>PC4</th>\n",
       "      <th>PC5</th>\n",
       "      <th>PC6</th>\n",
       "      <th>PC7</th>\n",
       "    </tr>\n",
       "  </thead>\n",
       "  <tbody>\n",
       "    <tr>\n",
       "      <th>0</th>\n",
       "      <td>0.000277</td>\n",
       "      <td>-0.007366</td>\n",
       "      <td>-0.005802</td>\n",
       "      <td>-0.008016</td>\n",
       "      <td>-0.000140</td>\n",
       "      <td>-0.019152</td>\n",
       "      <td>0.001024</td>\n",
       "    </tr>\n",
       "    <tr>\n",
       "      <th>1</th>\n",
       "      <td>-0.010390</td>\n",
       "      <td>-0.008809</td>\n",
       "      <td>0.004091</td>\n",
       "      <td>-0.005157</td>\n",
       "      <td>0.006581</td>\n",
       "      <td>-0.011030</td>\n",
       "      <td>-0.001370</td>\n",
       "    </tr>\n",
       "    <tr>\n",
       "      <th>2</th>\n",
       "      <td>0.096099</td>\n",
       "      <td>0.203566</td>\n",
       "      <td>-0.032006</td>\n",
       "      <td>-0.032248</td>\n",
       "      <td>0.002193</td>\n",
       "      <td>-0.000888</td>\n",
       "      <td>-0.081251</td>\n",
       "    </tr>\n",
       "    <tr>\n",
       "      <th>3</th>\n",
       "      <td>0.015212</td>\n",
       "      <td>-0.025601</td>\n",
       "      <td>-0.018004</td>\n",
       "      <td>-0.022123</td>\n",
       "      <td>-0.056471</td>\n",
       "      <td>-0.025231</td>\n",
       "      <td>-0.063057</td>\n",
       "    </tr>\n",
       "    <tr>\n",
       "      <th>4</th>\n",
       "      <td>0.005910</td>\n",
       "      <td>-0.027515</td>\n",
       "      <td>-0.008770</td>\n",
       "      <td>-0.016263</td>\n",
       "      <td>0.001501</td>\n",
       "      <td>-0.034412</td>\n",
       "      <td>-0.014604</td>\n",
       "    </tr>\n",
       "  </tbody>\n",
       "</table>\n",
       "</div>"
      ],
      "text/plain": [
       "        PC1       PC2       PC3       PC4       PC5       PC6       PC7\n",
       "0  0.000277 -0.007366 -0.005802 -0.008016 -0.000140 -0.019152  0.001024\n",
       "1 -0.010390 -0.008809  0.004091 -0.005157  0.006581 -0.011030 -0.001370\n",
       "2  0.096099  0.203566 -0.032006 -0.032248  0.002193 -0.000888 -0.081251\n",
       "3  0.015212 -0.025601 -0.018004 -0.022123 -0.056471 -0.025231 -0.063057\n",
       "4  0.005910 -0.027515 -0.008770 -0.016263  0.001501 -0.034412 -0.014604"
      ]
     },
     "execution_count": 3,
     "metadata": {},
     "output_type": "execute_result"
    }
   ],
   "source": [
    "train_data = df.iloc[:, 1:8]\n",
    "train_data.head()"
   ]
  },
  {
   "cell_type": "code",
   "execution_count": 4,
   "metadata": {
    "ExecuteTime": {
     "end_time": "2019-02-17T09:24:02.348148Z",
     "start_time": "2019-02-17T09:24:02.344162Z"
    }
   },
   "outputs": [],
   "source": [
    "train = train_data.values"
   ]
  },
  {
   "cell_type": "code",
   "execution_count": 5,
   "metadata": {
    "ExecuteTime": {
     "end_time": "2019-02-17T09:24:18.647432Z",
     "start_time": "2019-02-17T09:24:18.641420Z"
    }
   },
   "outputs": [
    {
     "data": {
      "text/plain": [
       "(1070994, 7)"
      ]
     },
     "execution_count": 5,
     "metadata": {},
     "output_type": "execute_result"
    }
   ],
   "source": [
    "train.shape"
   ]
  },
  {
   "cell_type": "code",
   "execution_count": 6,
   "metadata": {
    "ExecuteTime": {
     "end_time": "2019-02-17T09:24:23.674561Z",
     "start_time": "2019-02-17T09:24:23.670572Z"
    }
   },
   "outputs": [],
   "source": [
    "train = pd.DataFrame(train)"
   ]
  },
  {
   "cell_type": "code",
   "execution_count": 7,
   "metadata": {
    "ExecuteTime": {
     "end_time": "2019-02-17T09:36:15.744513Z",
     "start_time": "2019-02-17T09:36:15.729560Z"
    },
    "scrolled": true
   },
   "outputs": [
    {
     "data": {
      "text/html": [
       "<div>\n",
       "<style scoped>\n",
       "    .dataframe tbody tr th:only-of-type {\n",
       "        vertical-align: middle;\n",
       "    }\n",
       "\n",
       "    .dataframe tbody tr th {\n",
       "        vertical-align: top;\n",
       "    }\n",
       "\n",
       "    .dataframe thead th {\n",
       "        text-align: right;\n",
       "    }\n",
       "</style>\n",
       "<table border=\"1\" class=\"dataframe\">\n",
       "  <thead>\n",
       "    <tr style=\"text-align: right;\">\n",
       "      <th></th>\n",
       "      <th>0</th>\n",
       "      <th>1</th>\n",
       "      <th>2</th>\n",
       "      <th>3</th>\n",
       "      <th>4</th>\n",
       "      <th>5</th>\n",
       "      <th>6</th>\n",
       "    </tr>\n",
       "  </thead>\n",
       "  <tbody>\n",
       "    <tr>\n",
       "      <th>0</th>\n",
       "      <td>0.000277</td>\n",
       "      <td>-0.007366</td>\n",
       "      <td>-0.005802</td>\n",
       "      <td>-0.008016</td>\n",
       "      <td>-0.000140</td>\n",
       "      <td>-0.019152</td>\n",
       "      <td>0.001024</td>\n",
       "    </tr>\n",
       "    <tr>\n",
       "      <th>1</th>\n",
       "      <td>-0.010390</td>\n",
       "      <td>-0.008809</td>\n",
       "      <td>0.004091</td>\n",
       "      <td>-0.005157</td>\n",
       "      <td>0.006581</td>\n",
       "      <td>-0.011030</td>\n",
       "      <td>-0.001370</td>\n",
       "    </tr>\n",
       "    <tr>\n",
       "      <th>2</th>\n",
       "      <td>0.096099</td>\n",
       "      <td>0.203566</td>\n",
       "      <td>-0.032006</td>\n",
       "      <td>-0.032248</td>\n",
       "      <td>0.002193</td>\n",
       "      <td>-0.000888</td>\n",
       "      <td>-0.081251</td>\n",
       "    </tr>\n",
       "    <tr>\n",
       "      <th>3</th>\n",
       "      <td>0.015212</td>\n",
       "      <td>-0.025601</td>\n",
       "      <td>-0.018004</td>\n",
       "      <td>-0.022123</td>\n",
       "      <td>-0.056471</td>\n",
       "      <td>-0.025231</td>\n",
       "      <td>-0.063057</td>\n",
       "    </tr>\n",
       "    <tr>\n",
       "      <th>4</th>\n",
       "      <td>0.005910</td>\n",
       "      <td>-0.027515</td>\n",
       "      <td>-0.008770</td>\n",
       "      <td>-0.016263</td>\n",
       "      <td>0.001501</td>\n",
       "      <td>-0.034412</td>\n",
       "      <td>-0.014604</td>\n",
       "    </tr>\n",
       "  </tbody>\n",
       "</table>\n",
       "</div>"
      ],
      "text/plain": [
       "          0         1         2         3         4         5         6\n",
       "0  0.000277 -0.007366 -0.005802 -0.008016 -0.000140 -0.019152  0.001024\n",
       "1 -0.010390 -0.008809  0.004091 -0.005157  0.006581 -0.011030 -0.001370\n",
       "2  0.096099  0.203566 -0.032006 -0.032248  0.002193 -0.000888 -0.081251\n",
       "3  0.015212 -0.025601 -0.018004 -0.022123 -0.056471 -0.025231 -0.063057\n",
       "4  0.005910 -0.027515 -0.008770 -0.016263  0.001501 -0.034412 -0.014604"
      ]
     },
     "execution_count": 7,
     "metadata": {},
     "output_type": "execute_result"
    }
   ],
   "source": [
    "train.head()"
   ]
  },
  {
   "cell_type": "code",
   "execution_count": 8,
   "metadata": {
    "ExecuteTime": {
     "end_time": "2019-02-17T09:36:36.455696Z",
     "start_time": "2019-02-17T09:36:35.785190Z"
    }
   },
   "outputs": [],
   "source": [
    "#Calculating Heuristic Z score for each record - Manhattan\n",
    "manhattan = train.abs()\n",
    "manhattan_score = manhattan.sum(axis = 1)\n",
    "#manhattan_score"
   ]
  },
  {
   "cell_type": "code",
   "execution_count": 10,
   "metadata": {
    "ExecuteTime": {
     "end_time": "2019-02-17T09:36:56.630362Z",
     "start_time": "2019-02-17T09:36:56.624379Z"
    }
   },
   "outputs": [
    {
     "data": {
      "text/plain": [
       "(1070994,)"
      ]
     },
     "execution_count": 10,
     "metadata": {},
     "output_type": "execute_result"
    }
   ],
   "source": [
    "manhattan_score.shape"
   ]
  },
  {
   "cell_type": "code",
   "execution_count": 11,
   "metadata": {
    "ExecuteTime": {
     "end_time": "2019-02-17T09:37:24.592728Z",
     "start_time": "2019-02-17T09:37:23.548061Z"
    }
   },
   "outputs": [
    {
     "data": {
      "text/plain": [
       "(1070994,)"
      ]
     },
     "execution_count": 11,
     "metadata": {},
     "output_type": "execute_result"
    }
   ],
   "source": [
    "#Calculating Heuristic Z score for each record - Euclidean\n",
    "euclidean = ((train.abs())**2).sum(axis=1)\n",
    "euclidean_score = euclidean**(1/2)\n",
    "euclidean_score.shape"
   ]
  },
  {
   "cell_type": "code",
   "execution_count": 12,
   "metadata": {
    "ExecuteTime": {
     "end_time": "2019-02-17T09:39:13.963173Z",
     "start_time": "2019-02-17T09:39:13.943199Z"
    }
   },
   "outputs": [],
   "source": [
    "#Creating DF\n",
    "manhattan_score = pd.DataFrame(manhattan_score)\n",
    "euclidean_score = pd.DataFrame(euclidean_score)\n",
    "fraud_score_HU= pd.concat([manhattan_score,euclidean_score], axis=1)\n",
    "\n",
    "fraud_score_HU.columns=['Manhattan_Hu_Score','Euclidean_Hu_Score']"
   ]
  },
  {
   "cell_type": "code",
   "execution_count": 13,
   "metadata": {
    "ExecuteTime": {
     "end_time": "2019-02-17T09:39:21.034179Z",
     "start_time": "2019-02-17T09:39:21.023208Z"
    }
   },
   "outputs": [],
   "source": [
    "fraud_score_HU.insert(0,'Record',fraud_score_HU.index+1)"
   ]
  },
  {
   "cell_type": "code",
   "execution_count": 16,
   "metadata": {
    "ExecuteTime": {
     "end_time": "2019-02-17T09:42:25.414574Z",
     "start_time": "2019-02-17T09:42:25.410583Z"
    }
   },
   "outputs": [],
   "source": [
    "fraud_score_HU.columns=['Record','Manhattan_Hu_Score','Euclidean_Hu_Score']"
   ]
  },
  {
   "cell_type": "code",
   "execution_count": 17,
   "metadata": {
    "ExecuteTime": {
     "end_time": "2019-02-17T09:42:28.084590Z",
     "start_time": "2019-02-17T09:42:28.075585Z"
    }
   },
   "outputs": [
    {
     "data": {
      "text/html": [
       "<div>\n",
       "<style scoped>\n",
       "    .dataframe tbody tr th:only-of-type {\n",
       "        vertical-align: middle;\n",
       "    }\n",
       "\n",
       "    .dataframe tbody tr th {\n",
       "        vertical-align: top;\n",
       "    }\n",
       "\n",
       "    .dataframe thead th {\n",
       "        text-align: right;\n",
       "    }\n",
       "</style>\n",
       "<table border=\"1\" class=\"dataframe\">\n",
       "  <thead>\n",
       "    <tr style=\"text-align: right;\">\n",
       "      <th></th>\n",
       "      <th>Record</th>\n",
       "      <th>Manhattan_Hu_Score</th>\n",
       "      <th>Euclidean_Hu_Score</th>\n",
       "    </tr>\n",
       "  </thead>\n",
       "  <tbody>\n",
       "    <tr>\n",
       "      <th>0</th>\n",
       "      <td>1</td>\n",
       "      <td>0.041778</td>\n",
       "      <td>0.022806</td>\n",
       "    </tr>\n",
       "    <tr>\n",
       "      <th>1</th>\n",
       "      <td>2</td>\n",
       "      <td>0.047428</td>\n",
       "      <td>0.019893</td>\n",
       "    </tr>\n",
       "    <tr>\n",
       "      <th>2</th>\n",
       "      <td>3</td>\n",
       "      <td>0.448251</td>\n",
       "      <td>0.243610</td>\n",
       "    </tr>\n",
       "    <tr>\n",
       "      <th>3</th>\n",
       "      <td>4</td>\n",
       "      <td>0.225698</td>\n",
       "      <td>0.097479</td>\n",
       "    </tr>\n",
       "    <tr>\n",
       "      <th>4</th>\n",
       "      <td>5</td>\n",
       "      <td>0.108974</td>\n",
       "      <td>0.050330</td>\n",
       "    </tr>\n",
       "  </tbody>\n",
       "</table>\n",
       "</div>"
      ],
      "text/plain": [
       "   Record  Manhattan_Hu_Score  Euclidean_Hu_Score\n",
       "0       1            0.041778            0.022806\n",
       "1       2            0.047428            0.019893\n",
       "2       3            0.448251            0.243610\n",
       "3       4            0.225698            0.097479\n",
       "4       5            0.108974            0.050330"
      ]
     },
     "execution_count": 17,
     "metadata": {},
     "output_type": "execute_result"
    }
   ],
   "source": [
    "fraud_score_HU.head()"
   ]
  },
  {
   "cell_type": "code",
   "execution_count": 18,
   "metadata": {
    "ExecuteTime": {
     "end_time": "2019-02-17T09:43:06.127900Z",
     "start_time": "2019-02-17T09:43:05.525503Z"
    }
   },
   "outputs": [],
   "source": [
    "fraud_score_HU['Euclidean_Hu_Rank'] = fraud_score_HU['Euclidean_Hu_Score'].rank(ascending=1)\n",
    "fraud_score_HU['Manhattan_Hu_Rank'] = fraud_score_HU['Manhattan_Hu_Score'].rank(ascending=1)"
   ]
  },
  {
   "cell_type": "code",
   "execution_count": 19,
   "metadata": {
    "ExecuteTime": {
     "end_time": "2019-02-17T09:43:21.084219Z",
     "start_time": "2019-02-17T09:43:21.071255Z"
    },
    "scrolled": true
   },
   "outputs": [
    {
     "data": {
      "text/html": [
       "<div>\n",
       "<style scoped>\n",
       "    .dataframe tbody tr th:only-of-type {\n",
       "        vertical-align: middle;\n",
       "    }\n",
       "\n",
       "    .dataframe tbody tr th {\n",
       "        vertical-align: top;\n",
       "    }\n",
       "\n",
       "    .dataframe thead th {\n",
       "        text-align: right;\n",
       "    }\n",
       "</style>\n",
       "<table border=\"1\" class=\"dataframe\">\n",
       "  <thead>\n",
       "    <tr style=\"text-align: right;\">\n",
       "      <th></th>\n",
       "      <th>Record</th>\n",
       "      <th>Manhattan_Hu_Score</th>\n",
       "      <th>Euclidean_Hu_Score</th>\n",
       "      <th>Euclidean_Hu_Rank</th>\n",
       "      <th>Manhattan_Hu_Rank</th>\n",
       "    </tr>\n",
       "  </thead>\n",
       "  <tbody>\n",
       "    <tr>\n",
       "      <th>0</th>\n",
       "      <td>1</td>\n",
       "      <td>0.041778</td>\n",
       "      <td>0.022806</td>\n",
       "      <td>767259.0</td>\n",
       "      <td>448548.0</td>\n",
       "    </tr>\n",
       "    <tr>\n",
       "      <th>1</th>\n",
       "      <td>2</td>\n",
       "      <td>0.047428</td>\n",
       "      <td>0.019893</td>\n",
       "      <td>546563.0</td>\n",
       "      <td>671523.0</td>\n",
       "    </tr>\n",
       "    <tr>\n",
       "      <th>2</th>\n",
       "      <td>3</td>\n",
       "      <td>0.448251</td>\n",
       "      <td>0.243610</td>\n",
       "      <td>1059975.0</td>\n",
       "      <td>1057206.0</td>\n",
       "    </tr>\n",
       "    <tr>\n",
       "      <th>3</th>\n",
       "      <td>4</td>\n",
       "      <td>0.225698</td>\n",
       "      <td>0.097479</td>\n",
       "      <td>1036826.0</td>\n",
       "      <td>1040159.0</td>\n",
       "    </tr>\n",
       "    <tr>\n",
       "      <th>4</th>\n",
       "      <td>5</td>\n",
       "      <td>0.108974</td>\n",
       "      <td>0.050330</td>\n",
       "      <td>997471.5</td>\n",
       "      <td>1001392.5</td>\n",
       "    </tr>\n",
       "  </tbody>\n",
       "</table>\n",
       "</div>"
      ],
      "text/plain": [
       "   Record  Manhattan_Hu_Score  Euclidean_Hu_Score  Euclidean_Hu_Rank  \\\n",
       "0       1            0.041778            0.022806           767259.0   \n",
       "1       2            0.047428            0.019893           546563.0   \n",
       "2       3            0.448251            0.243610          1059975.0   \n",
       "3       4            0.225698            0.097479          1036826.0   \n",
       "4       5            0.108974            0.050330           997471.5   \n",
       "\n",
       "   Manhattan_Hu_Rank  \n",
       "0           448548.0  \n",
       "1           671523.0  \n",
       "2          1057206.0  \n",
       "3          1040159.0  \n",
       "4          1001392.5  "
      ]
     },
     "execution_count": 19,
     "metadata": {},
     "output_type": "execute_result"
    }
   ],
   "source": [
    "fraud_score_HU.head()"
   ]
  },
  {
   "cell_type": "code",
   "execution_count": 20,
   "metadata": {
    "ExecuteTime": {
     "end_time": "2019-02-17T09:44:15.927821Z",
     "start_time": "2019-02-17T09:44:06.664990Z"
    }
   },
   "outputs": [],
   "source": [
    "fraud_score_HU.to_csv('fraud_ScoreAndRanks_HU.csv',index=False)"
   ]
  },
  {
   "cell_type": "markdown",
   "metadata": {},
   "source": [
    "## Plotting"
   ]
  },
  {
   "cell_type": "code",
   "execution_count": 23,
   "metadata": {
    "ExecuteTime": {
     "end_time": "2019-02-17T09:46:55.172453Z",
     "start_time": "2019-02-17T09:46:38.876898Z"
    }
   },
   "outputs": [],
   "source": [
    "import seaborn as sns\n",
    "import matplotlib.pyplot as plt"
   ]
  },
  {
   "cell_type": "code",
   "execution_count": 29,
   "metadata": {
    "ExecuteTime": {
     "end_time": "2019-02-17T09:59:38.553827Z",
     "start_time": "2019-02-17T09:59:19.075571Z"
    }
   },
   "outputs": [
    {
     "name": "stderr",
     "output_type": "stream",
     "text": [
      "C:\\Users\\Gregy\\Anaconda3\\Anaconda3_USC\\lib\\site-packages\\matplotlib\\axes\\_axes.py:6462: UserWarning: The 'normed' kwarg is deprecated, and has been replaced by the 'density' kwarg.\n",
      "  warnings.warn(\"The 'normed' kwarg is deprecated, and has been \"\n"
     ]
    },
    {
     "data": {
      "image/png": "[encoded data removed]",
      "text/plain": [
       "<Figure size 432x288 with 1 Axes>"
      ]
     },
     "metadata": {},
     "output_type": "display_data"
    }
   ],
   "source": [
    "colName='Manhattan_Hu_Score'\n",
    "\n",
    "xhigh =1.25\n",
    "#sns.plt.xlim(0,xhigh)\n",
    "\n",
    "#temp = fraud_score_HU\n",
    "temp = fraud_score_HU[fraud_score_HU[colName] <= xhigh]\n",
    "\n",
    "\n",
    "sns.distplot(temp[colName],bins=10000, kde=True)\n",
    "plt.title('Distribution of :'+colName)\n",
    "plt.xscale('log')\n",
    "plt.ylabel('Density of probability', fontsize=12)\n",
    "#plt.ylim((0.00, 25)) \n",
    "#plt.xlim((0.00, 25)) \n",
    "plt.xlabel(colName, fontsize=12)\n",
    "#plt.savefig(\"imgs/\"+colName+\".png\")\n",
    "plt.show()"
   ]
  },
  {
   "cell_type": "code",
   "execution_count": 30,
   "metadata": {
    "ExecuteTime": {
     "end_time": "2019-02-17T10:00:32.013321Z",
     "start_time": "2019-02-17T10:00:11.405429Z"
    }
   },
   "outputs": [
    {
     "name": "stderr",
     "output_type": "stream",
     "text": [
      "C:\\Users\\Gregy\\Anaconda3\\Anaconda3_USC\\lib\\site-packages\\matplotlib\\axes\\_axes.py:6462: UserWarning: The 'normed' kwarg is deprecated, and has been replaced by the 'density' kwarg.\n",
      "  warnings.warn(\"The 'normed' kwarg is deprecated, and has been \"\n"
     ]
    },
    {
     "data": {
      "image/png": "[encoded data removed]",
      "text/plain": [
       "<Figure size 432x288 with 1 Axes>"
      ]
     },
     "metadata": {},
     "output_type": "display_data"
    }
   ],
   "source": [
    "colName='Euclidean_Hu_Score'\n",
    "\n",
    "xhigh =1.25\n",
    "#sns.plt.xlim(0,xhigh)\n",
    "\n",
    "#temp = fraud_score_HU\n",
    "temp = fraud_score_HU[fraud_score_HU[colName] <= xhigh]\n",
    "\n",
    "\n",
    "sns.distplot(temp[colName],bins=10000, kde=True)\n",
    "plt.title('Distribution of :'+colName)\n",
    "plt.xscale('log')\n",
    "plt.ylabel('Density of probability', fontsize=12)\n",
    "#plt.ylim((0.00, 25)) \n",
    "#plt.xlim((0.00, 25)) \n",
    "plt.xlabel(colName, fontsize=12)\n",
    "#plt.savefig(\"imgs/\"+colName+\".png\")\n",
    "plt.show()"
   ]
  }
 ],
 "metadata": {
  "kernelspec": {
   "display_name": "Python 3",
   "language": "python",
   "name": "python3"
  },
  "language_info": {
   "codemirror_mode": {
    "name": "ipython",
    "version": 3
   },
   "file_extension": ".py",
   "mimetype": "text/x-python",
   "name": "python",
   "nbconvert_exporter": "python",
   "pygments_lexer": "ipython3",
   "version": "3.6.5"
  }
 },
 "nbformat": 4,
 "nbformat_minor": 2
}
